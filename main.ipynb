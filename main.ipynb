{
 "cells": [
  {
   "cell_type": "markdown",
   "metadata": {},
   "source": [
    "### 설계 전략\n",
    "* file 경로, label, class1, 2, 3, ..., n으로 이루어진 key_df를 유저 자체 생성.\n",
    "* key_df를 기반으로 idx_dict 생성"
   ]
  },
  {
   "cell_type": "markdown",
   "metadata": {},
   "source": [
    "# Packages"
   ]
  },
  {
   "cell_type": "code",
   "execution_count": 1,
   "metadata": {},
   "outputs": [],
   "source": [
    "from typing import List, Dict, Any, Tuple, Callable, Union, Optional\n",
    "\n",
    "import sys, os, cv2, re\n",
    "import torch\n",
    "from torch import nn\n",
    "import numpy as np\n",
    "import pandas as pd\n",
    "from scripts.how_to_train import *\n",
    "\n",
    "from GGUtils.utils.path import do_or_load, GetAbsolutePath\n",
    "from GGUtils.img.viewer import show_img, show_imgs\n",
    "from GGDL.utils import set_seed_everything, make_basic_directory, tensor_to_img, GetDevice\n",
    "from GGDL.idx_dict.key_df import make_basic_key_df, binary_label_convertor\n",
    "from GGDL.idx_dict.make_dict import make_stratified_idx_dict\n",
    "from GGDL.data_loader.dataset import ImgDataset, GetLoader, show_dataset_img\n",
    "from GGDL.model.vision import Classification\n",
    "from GGDL.model.fine_tuning import Tuner\n",
    "\n",
    "from GGImgMorph.scenario import sample_augment      # 증강 알고리즘"
   ]
  },
  {
   "cell_type": "markdown",
   "metadata": {},
   "source": [
    "# Process"
   ]
  },
  {
   "cell_type": "code",
   "execution_count": 2,
   "metadata": {},
   "outputs": [
    {
     "name": "stdout",
     "output_type": "stream",
     "text": [
      "CUDA is available.\n",
      "GPU size: 2\n",
      "------------------------------------------------------------\n",
      "GPU number: 0\n",
      "Name: NVIDIA GeForce RTX 3080 Ti\n",
      "Computer capability: 8.6\n",
      "VRAM: 12GB\n",
      "------------------------------------------------------------\n",
      "GPU number: 1\n",
      "Name: NVIDIA GeForce GTX 750\n",
      "Computer capability: 5.0\n",
      "VRAM: 1GB\n",
      "------------------------------------------------------------\n"
     ]
    }
   ],
   "source": [
    "# 초기 설정 값\n",
    "# ==============================\n",
    "GPU = 0\n",
    "MAKE_NEW_IDX_DICT = False\n",
    "WORKER = 0\n",
    "\n",
    "# 경로 정보\n",
    "# ==============================\n",
    "TRAIN_SET = \"/home/gooopy/programming/rawdata/dogs-vs-cats/train/\"\n",
    "TEST_SET = \"/home/gooopy/programming/rawdata/dogs-vs-cats/test1/\"\n",
    "IDX_DICT_PATH = f\"{SOURCE}/idx_dict.pickle\"\n",
    "ESTOP_PATH = f\"{SOURCE}/{ESPOINT_DIR}/process{GPU}\"\n",
    "\n",
    "# Device 설정\n",
    "# ==============================\n",
    "GET_DEVICE = GetDevice()\n",
    "DEVICE = GET_DEVICE(GPU)\n",
    "torch.cuda.set_device(DEVICE)\n",
    "GET_DEVICE.summary()\n",
    "\n",
    "# Model 학습 관련 설정\n",
    "# ==============================\n",
    "IMG_SIZE = 224\n",
    "IMG_CHANNER = 3\n",
    "CLASS_SIZE = 1\n",
    "RESIZE_PADDING_COLOR = \"random\"\n",
    "BATCH_SIZE = 16\n",
    "MODEL_NAME = 'vit_base_patch16_224.orig_in21k'      # baseline model\n",
    "\n",
    "\n",
    "class HeaderBlock(nn.Module):\n",
    "    def __init__(self, input_dim:int, output_dim:int, dropout_prob:float):\n",
    "        super(HeaderBlock, self).__init__()\n",
    "        self.batch_norm = nn.BatchNorm1d(input_dim)\n",
    "        self.linear = nn.Linear(input_dim, output_dim)\n",
    "        self.gelu = nn.GELU()\n",
    "        self.dropout = nn.Dropout(dropout_prob)\n",
    "\n",
    "    def forward(self, x):\n",
    "        x = self.batch_norm(x)\n",
    "        x = self.linear(x)\n",
    "        x = self.gelu(x)\n",
    "        return self.dropout(x)\n",
    "\n",
    "\n",
    "def custom_header(x):\n",
    "    \"\"\"\n",
    "    Pre-Activation Batch Normalization\n",
    "    - 깊은 Backbone 모델의 header이므로, Internal Covariate Shift 문제 해결을 위해 사용\n",
    "\n",
    "    BottleNeck\n",
    "    - 정보를 확장하여 중요한 정보만 남겨, 계산 효율성을 유지하면서 높은 표현력 제공\n",
    "    \"\"\"\n",
    "    header = nn.Sequential(\n",
    "        HeaderBlock(input_dim=x, output_dim=1024, dropout_prob=0.1),\n",
    "        HeaderBlock(input_dim=1024, output_dim=512, dropout_prob=0.3),\n",
    "        HeaderBlock(input_dim=512, output_dim=128, dropout_prob=0.5),\n",
    "        nn.Linear(128, 1),\n",
    "        nn.Sigmoid()\n",
    "    )\n",
    "    return header\n",
    "\n",
    "\n",
    "CUSTOM_HEAD_FN = custom_header"
   ]
  },
  {
   "cell_type": "code",
   "execution_count": 3,
   "metadata": {},
   "outputs": [],
   "source": [
    "# 기초 디렉터리 생성\n",
    "make_basic_directory(source=SOURCE, estop_dir=ESPOINT_DIR, log=LOG, result=RESULT, make_new=False)\n",
    "\n",
    "# key_df 생성\n",
    "path_list = GetAbsolutePath(None).get_all_path(parents_path=TRAIN_SET)\n",
    "key_df = make_basic_key_df(\n",
    "    paths=path_list,\n",
    "    labels=[re.split(r\".+/\", i, maxsplit=1)[1].split('.')[0] for i in path_list]\n",
    ")\n",
    "# label을 이진 분류로 변환\n",
    "key_df['label'] = binary_label_convertor(array=key_df['label'], positive_class='dog')\n",
    "\n",
    "# idx_dict 생성\n",
    "idx_dict = do_or_load(\n",
    "    savepath=IDX_DICT_PATH, makes_new=MAKE_NEW_IDX_DICT, \n",
    "    fn=make_stratified_idx_dict,\n",
    "    key_df=key_df, stratified_columns=['label'], is_binary=True,\n",
    "    path_col='path', label_col='label', \n",
    "    k_size=K_SIZE, test_ratio=TEST_RATIO, valid_ratio=VALID_RATIO\n",
    ")\n",
    "\n",
    "# 학습 전 모든 seed 고정\n",
    "set_seed_everything(seed=SEED)"
   ]
  },
  {
   "cell_type": "code",
   "execution_count": 4,
   "metadata": {},
   "outputs": [],
   "source": [
    "augments = sample_augment\n",
    "batch_size = BATCH_SIZE\n",
    "img_size = IMG_SIZE\n",
    "worker = WORKER\n",
    "resize_how = 0\n",
    "resize_how_list = [2, 3, 4]\n",
    "resize_padding_color = RESIZE_PADDING_COLOR"
   ]
  },
  {
   "cell_type": "code",
   "execution_count": 5,
   "metadata": {},
   "outputs": [],
   "source": [
    "for k in idx_dict.keys():\n",
    "    # k-fold에 대한 idx_dict\n",
    "    k_idx_dict = idx_dict[k]\n",
    "    break"
   ]
  },
  {
   "cell_type": "code",
   "execution_count": 6,
   "metadata": {},
   "outputs": [],
   "source": [
    "# Data Loader 정의\n",
    "loader = GetLoader(\n",
    "    dataset_class=ImgDataset, idx_dict=k_idx_dict,\n",
    "    augments=augments, batch_size=batch_size, workers=0, \n",
    "    resize=img_size, resize_how=resize_how, resize_how_list=resize_how_list,\n",
    "    resize_padding_color = resize_padding_color\n",
    ")\n",
    "# model 정의\n",
    "model = Classification(\n",
    "    model_name=MODEL_NAME, pretrained=True, \n",
    "    channel=IMG_CHANNER, class_size=CLASS_SIZE,\n",
    "    custom_head_fn=CUSTOM_HEAD_FN\n",
    ")\n",
    "# Fine tuning 방법 정의\n"
   ]
  },
  {
   "cell_type": "code",
   "execution_count": 7,
   "metadata": {},
   "outputs": [],
   "source": [
    "for imgs, labels in loader.train:\n",
    "    break"
   ]
  },
  {
   "cell_type": "code",
   "execution_count": 8,
   "metadata": {},
   "outputs": [],
   "source": [
    "# \"\"\"\n",
    "# 구현 계획\n",
    "# 1. Full fine-tuning: 아무것도 설정되지 않은 상태로, 모든 parameter를 True로 바꿔서 내보내게\n",
    "# 2. Fixed Feature Extractor: %로 학습하게\n",
    "# 3. Layer-wise Unfreezing: 아래에서부터 천천히 해제하게, max %를 넣어서 최대 해제량을 설정하게\n",
    "# 4. Differential Learning Rate: 각 layer의 학습률을 선형 또는 로그 함수 형태로 증가 또는 감소시키게\n",
    "\n",
    "\n",
    "# block 단위보다 layer 단위로 얼리자\n",
    "# \"\"\""
   ]
  },
  {
   "cell_type": "code",
   "execution_count": 9,
   "metadata": {},
   "outputs": [],
   "source": [
    "from GGDL.model.fine_tuning import FullFineTuning, FixedFeatureExtractor, PartialLayerFreezing"
   ]
  },
  {
   "cell_type": "code",
   "execution_count": 10,
   "metadata": {},
   "outputs": [],
   "source": [
    "class LayerWiseUnfreezing(Tuner):\n",
    "    def __init__(self, model, idx_df, idx_array, min, max, patience):\n",
    "        self.model = model\n",
    "        self.idx_df = idx_df\n",
    "        self.idx_array = idx_array\n",
    "        self.min = min\n",
    "        self.max = max\n",
    "        self.patience = patience\n"
   ]
  },
  {
   "cell_type": "code",
   "execution_count": 11,
   "metadata": {},
   "outputs": [],
   "source": [
    "TUNER_INS = Tuner(model=model, tuning_target='layer')"
   ]
  },
  {
   "cell_type": "code",
   "execution_count": 16,
   "metadata": {},
   "outputs": [],
   "source": [
    "TEST_INS = LayerWiseUnfreezing(\n",
    "    model=TUNER_INS.model, idx_df=TUNER_INS.idx_df, idx_array=TUNER_INS.idx_array,\n",
    "    min=0.05, max=0.95, patience=5\n",
    "    )"
   ]
  },
  {
   "cell_type": "code",
   "execution_count": null,
   "metadata": {},
   "outputs": [],
   "source": []
  },
  {
   "cell_type": "code",
   "execution_count": null,
   "metadata": {},
   "outputs": [],
   "source": []
  },
  {
   "cell_type": "code",
   "execution_count": null,
   "metadata": {},
   "outputs": [],
   "source": []
  },
  {
   "cell_type": "code",
   "execution_count": null,
   "metadata": {},
   "outputs": [],
   "source": []
  },
  {
   "cell_type": "code",
   "execution_count": null,
   "metadata": {},
   "outputs": [],
   "source": []
  },
  {
   "cell_type": "code",
   "execution_count": null,
   "metadata": {},
   "outputs": [],
   "source": []
  },
  {
   "cell_type": "code",
   "execution_count": null,
   "metadata": {},
   "outputs": [],
   "source": []
  },
  {
   "cell_type": "code",
   "execution_count": null,
   "metadata": {},
   "outputs": [],
   "source": []
  },
  {
   "cell_type": "code",
   "execution_count": null,
   "metadata": {},
   "outputs": [],
   "source": []
  }
 ],
 "metadata": {
  "kernelspec": {
   "display_name": "dev_e3",
   "language": "python",
   "name": "python3"
  },
  "language_info": {
   "codemirror_mode": {
    "name": "ipython",
    "version": 3
   },
   "file_extension": ".py",
   "mimetype": "text/x-python",
   "name": "python",
   "nbconvert_exporter": "python",
   "pygments_lexer": "ipython3",
   "version": "3.12.2"
  }
 },
 "nbformat": 4,
 "nbformat_minor": 2
}
